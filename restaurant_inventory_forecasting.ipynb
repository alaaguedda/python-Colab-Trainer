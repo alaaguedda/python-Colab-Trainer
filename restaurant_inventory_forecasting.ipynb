{
  "nbformat": 4,
  "nbformat_minor": 0,
  "metadata": {
    "colab": {
      "provenance": [],
      "authorship_tag": "ABX9TyOrqKs+R6eYW51zMQv9Lqnr",
      "include_colab_link": true
    },
    "kernelspec": {
      "name": "python3",
      "display_name": "Python 3"
    },
    "language_info": {
      "name": "python"
    }
  },
  "cells": [
    {
      "cell_type": "markdown",
      "metadata": {
        "id": "view-in-github",
        "colab_type": "text"
      },
      "source": [
        "<a href=\"https://colab.research.google.com/github/alaaguedda/python-Colab-Trainer/blob/main/restaurant_inventory_forecasting.ipynb\" target=\"_parent\"><img src=\"https://colab.research.google.com/assets/colab-badge.svg\" alt=\"Open In Colab\"/></a>"
      ]
    },
    {
      "cell_type": "code",
      "execution_count": null,
      "metadata": {
        "id": "ws_wQxUffC-D"
      },
      "outputs": [],
      "source": [
        "# 1) Install libs (run this cell)\n",
        "!pip install --quiet datasets xgboost scikit-learn pandas pyarrow\n",
        "\n",
        "# 2) Imports\n",
        "\n",
        "import numpy as np\n",
        "from sklearn.model_selection import train_test_split\n",
        "from xgboost import XGBRegressor\n",
        "from sklearn.metrics import mean_absolute_error\n",
        "\n",
        "from datasets import load_dataset\n",
        "import pandas as pd\n",
        "\n"
      ]
    },
    {
      "cell_type": "code",
      "source": [
        "# 1️⃣ First time: download & save only the first 80k rows\n",
        "ds = load_dataset(\"Dingdong-Inc/FreshRetailNet-50K\", split=\"train[:80000]\")\n",
        "df = pd.DataFrame(ds)\n",
        "df.to_parquet(\"/content/fresh_retail_80k.parquet\")  # saves in Colab storage\n",
        "\n",
        "# 2️⃣ Later: just load from parquet (fast)\n",
        "df = pd.read_parquet(\"/content/fresh_retail_80k.parquet\")\n",
        "print(df.shape)\n"
      ],
      "metadata": {
        "id": "-YFcZhuU8KTd"
      },
      "execution_count": null,
      "outputs": []
    },
    {
      "cell_type": "code",
      "source": [
        "from google.colab import drive\n",
        "drive.mount('/content/drive')\n",
        "\n",
        "# Save to Drive\n",
        "df.to_parquet(\"/content/drive/MyDrive/fresh_retail_80k.parquet\")\n",
        "\n",
        "# Load from Drive next time\n",
        "df = pd.read_parquet(\"/content/drive/MyDrive/fresh_retail_80k.parquet\")"
      ],
      "metadata": {
        "colab": {
          "base_uri": "https://localhost:8080/"
        },
        "id": "3lfIFKZHPLjO",
        "outputId": "9d60f09d-330e-41d9-e86a-e9f979193c5a"
      },
      "execution_count": null,
      "outputs": [
        {
          "output_type": "stream",
          "name": "stdout",
          "text": [
            "Mounted at /content/drive\n"
          ]
        }
      ]
    },
    {
      "cell_type": "code",
      "source": [
        "df = pd.read_parquet(\"/content/drive/MyDrive/fresh_retail_80k.parquet\")"
      ],
      "metadata": {
        "id": "DUShaGT4Po_M"
      },
      "execution_count": null,
      "outputs": []
    },
    {
      "cell_type": "code",
      "source": [
        "prod_ids = df[\"product_id\"].unique()\n",
        "print(\"num unique products:\", len(prod_ids))\n",
        "print(\"first 20 product_ids:\", prod_ids[:20])\n",
        "\n",
        "chosen = prod_ids[:3]\n",
        "df = df[df['product_id'].isin(chosen)]\n",
        "print(\"final dataset shape:\", df.shape)\n",
        "print(\"remaining product_ids:\", df[\"product_id\"].unique())"
      ],
      "metadata": {
        "colab": {
          "base_uri": "https://localhost:8080/"
        },
        "id": "na4gSPtqQy5k",
        "outputId": "983fb439-b72a-47a9-9394-5f143a294291"
      },
      "execution_count": null,
      "outputs": [
        {
          "output_type": "stream",
          "name": "stdout",
          "text": [
            "num unique products: 257\n",
            "first 20 product_ids: [ 38 834 411 686 580 596 740 379   4 600 699 548  72 644 638 496 296 631\n",
            " 310 633]\n",
            "final dataset shape: (2070, 19)\n",
            "remaining product_ids: [ 38 834 411]\n"
          ]
        }
      ]
    },
    {
      "cell_type": "code",
      "source": [
        "df[\"product_id\"].value_counts()"
      ],
      "metadata": {
        "id": "vrZdPo-eQ2Ai"
      },
      "execution_count": null,
      "outputs": []
    },
    {
      "cell_type": "code",
      "source": [
        "df.head()"
      ],
      "metadata": {
        "id": "IdK1Iy4bhEd2"
      },
      "execution_count": null,
      "outputs": []
    },
    {
      "cell_type": "code",
      "source": [
        "df[\"product_id\"].unique()"
      ],
      "metadata": {
        "id": "Jlh77EpszKas",
        "colab": {
          "base_uri": "https://localhost:8080/"
        },
        "outputId": "150154e7-a10d-48f7-8c67-c4404fb9afb6"
      },
      "execution_count": null,
      "outputs": [
        {
          "output_type": "execute_result",
          "data": {
            "text/plain": [
              "array([ 38, 834, 411])"
            ]
          },
          "metadata": {},
          "execution_count": 10
        }
      ]
    },
    {
      "cell_type": "code",
      "source": [
        "product_map = {\n",
        "    38:\"bread\",\n",
        "    411:\"chicken\",\n",
        "    834:\"meat\"\n",
        "}\n",
        "\n",
        "df_filtred = df"
      ],
      "metadata": {
        "id": "AtCJABjp0pNN"
      },
      "execution_count": null,
      "outputs": []
    },
    {
      "cell_type": "code",
      "source": [
        "df_filtred[\"product_name\"] = df_filtred['product_id'].map(product_map)"
      ],
      "metadata": {
        "id": "GfaTK5yX2Qnq",
        "colab": {
          "base_uri": "https://localhost:8080/"
        },
        "outputId": "ffb3f1d2-9dd3-4333-f2d2-fec03d26615d"
      },
      "execution_count": null,
      "outputs": [
        {
          "output_type": "stream",
          "name": "stderr",
          "text": [
            "/tmp/ipython-input-4118317927.py:1: SettingWithCopyWarning: \n",
            "A value is trying to be set on a copy of a slice from a DataFrame.\n",
            "Try using .loc[row_indexer,col_indexer] = value instead\n",
            "\n",
            "See the caveats in the documentation: https://pandas.pydata.org/pandas-docs/stable/user_guide/indexing.html#returning-a-view-versus-a-copy\n",
            "  df_filtred[\"product_name\"] = df_filtred['product_id'].map(product_map)\n"
          ]
        }
      ]
    },
    {
      "cell_type": "code",
      "source": [
        "df_filtred[\"product_name\"].value_counts()"
      ],
      "metadata": {
        "id": "-hEIpD9p2gbb"
      },
      "execution_count": null,
      "outputs": []
    },
    {
      "cell_type": "code",
      "source": [
        "df_filtred = df_filtred.drop(columns = ['city_id',\n",
        "    'management_group_id',\n",
        "    'first_category_id',\n",
        "    'second_category_id',\n",
        "    'third_category_id'])"
      ],
      "metadata": {
        "id": "jUOIoj5v2nwR"
      },
      "execution_count": null,
      "outputs": []
    },
    {
      "cell_type": "code",
      "source": [
        "cols = ['store_id', 'product_name', 'dt', 'sale_amount',\n",
        "        'discount', 'holiday_flag', 'activity_flag',\n",
        "        'precpt', 'avg_temperature', 'avg_humidity', 'avg_wind_level']"
      ],
      "metadata": {
        "id": "Z5B6iUj32yC5"
      },
      "execution_count": null,
      "outputs": []
    },
    {
      "cell_type": "code",
      "source": [
        "df_filtred = df_filtred[cols]"
      ],
      "metadata": {
        "id": "kNc4j3td3Bwx"
      },
      "execution_count": null,
      "outputs": []
    },
    {
      "cell_type": "code",
      "source": [
        "df_filtred.head()"
      ],
      "metadata": {
        "id": "cdMzsBKU3NjZ"
      },
      "execution_count": null,
      "outputs": []
    },
    {
      "cell_type": "code",
      "source": [
        "df = df_filtred"
      ],
      "metadata": {
        "id": "Tv8pePMX3Sv5"
      },
      "execution_count": null,
      "outputs": []
    },
    {
      "cell_type": "code",
      "source": [
        "df.head()"
      ],
      "metadata": {
        "id": "8j8JX9an3XLg"
      },
      "execution_count": null,
      "outputs": []
    },
    {
      "cell_type": "code",
      "source": [
        "df['sale_amount'] = df['sale_amount'] * 10"
      ],
      "metadata": {
        "id": "bWd_TrU0hpMA"
      },
      "execution_count": null,
      "outputs": []
    },
    {
      "cell_type": "code",
      "source": [
        "df.to_parquet(\"/content/drive/MyDrive/fresh_retail_80k.parquet\")"
      ],
      "metadata": {
        "id": "4AYDY5IRiDXJ"
      },
      "execution_count": null,
      "outputs": []
    },
    {
      "cell_type": "code",
      "source": [
        "from google.colab import drive\n",
        "drive.mount('/content/drive')\n",
        "df = pd.read_parquet(\"/content/drive/MyDrive/fresh_retail_80k.parquet\")"
      ],
      "metadata": {
        "colab": {
          "base_uri": "https://localhost:8080/"
        },
        "id": "RIRkz0n6m-gC",
        "outputId": "2eb8b556-f8ff-4f6c-9ed2-85bd7b766b96"
      },
      "execution_count": null,
      "outputs": [
        {
          "output_type": "stream",
          "name": "stdout",
          "text": [
            "Mounted at /content/drive\n"
          ]
        }
      ]
    },
    {
      "cell_type": "code",
      "source": [
        "df.head()"
      ],
      "metadata": {
        "id": "DeJBUQjJinPy",
        "colab": {
          "base_uri": "https://localhost:8080/",
          "height": 313
        },
        "outputId": "98707b34-34fd-49cb-a610-84d4b73a0ffb"
      },
      "execution_count": null,
      "outputs": [
        {
          "output_type": "execute_result",
          "data": {
            "text/plain": [
              "   store_id product_name          dt  sale_amount  discount  holiday_flag  \\\n",
              "0         0        bread  2024-03-28          1.0       1.0             0   \n",
              "1         0        bread  2024-03-29          1.0       1.0             0   \n",
              "2         0        bread  2024-03-30          0.0       1.0             1   \n",
              "3         0        bread  2024-03-31          1.0       1.0             1   \n",
              "4         0        bread  2024-04-01          2.0       1.0             0   \n",
              "\n",
              "   activity_flag  precpt  avg_temperature  avg_humidity  avg_wind_level  \n",
              "0              0  1.6999            15.48         73.54            1.97  \n",
              "1              0  3.0190            15.08         76.56            1.71  \n",
              "2              0  2.0942            15.91         76.47            1.73  \n",
              "3              0  1.5618            16.13         77.40            1.76  \n",
              "4              0  3.5386            15.37         78.26            1.25  "
            ],
            "text/html": [
              "\n",
              "  <div id=\"df-4b1a7b46-d48a-4b9d-99f7-330b9e310fa9\" class=\"colab-df-container\">\n",
              "    <div>\n",
              "<style scoped>\n",
              "    .dataframe tbody tr th:only-of-type {\n",
              "        vertical-align: middle;\n",
              "    }\n",
              "\n",
              "    .dataframe tbody tr th {\n",
              "        vertical-align: top;\n",
              "    }\n",
              "\n",
              "    .dataframe thead th {\n",
              "        text-align: right;\n",
              "    }\n",
              "</style>\n",
              "<table border=\"1\" class=\"dataframe\">\n",
              "  <thead>\n",
              "    <tr style=\"text-align: right;\">\n",
              "      <th></th>\n",
              "      <th>store_id</th>\n",
              "      <th>product_name</th>\n",
              "      <th>dt</th>\n",
              "      <th>sale_amount</th>\n",
              "      <th>discount</th>\n",
              "      <th>holiday_flag</th>\n",
              "      <th>activity_flag</th>\n",
              "      <th>precpt</th>\n",
              "      <th>avg_temperature</th>\n",
              "      <th>avg_humidity</th>\n",
              "      <th>avg_wind_level</th>\n",
              "    </tr>\n",
              "  </thead>\n",
              "  <tbody>\n",
              "    <tr>\n",
              "      <th>0</th>\n",
              "      <td>0</td>\n",
              "      <td>bread</td>\n",
              "      <td>2024-03-28</td>\n",
              "      <td>1.0</td>\n",
              "      <td>1.0</td>\n",
              "      <td>0</td>\n",
              "      <td>0</td>\n",
              "      <td>1.6999</td>\n",
              "      <td>15.48</td>\n",
              "      <td>73.54</td>\n",
              "      <td>1.97</td>\n",
              "    </tr>\n",
              "    <tr>\n",
              "      <th>1</th>\n",
              "      <td>0</td>\n",
              "      <td>bread</td>\n",
              "      <td>2024-03-29</td>\n",
              "      <td>1.0</td>\n",
              "      <td>1.0</td>\n",
              "      <td>0</td>\n",
              "      <td>0</td>\n",
              "      <td>3.0190</td>\n",
              "      <td>15.08</td>\n",
              "      <td>76.56</td>\n",
              "      <td>1.71</td>\n",
              "    </tr>\n",
              "    <tr>\n",
              "      <th>2</th>\n",
              "      <td>0</td>\n",
              "      <td>bread</td>\n",
              "      <td>2024-03-30</td>\n",
              "      <td>0.0</td>\n",
              "      <td>1.0</td>\n",
              "      <td>1</td>\n",
              "      <td>0</td>\n",
              "      <td>2.0942</td>\n",
              "      <td>15.91</td>\n",
              "      <td>76.47</td>\n",
              "      <td>1.73</td>\n",
              "    </tr>\n",
              "    <tr>\n",
              "      <th>3</th>\n",
              "      <td>0</td>\n",
              "      <td>bread</td>\n",
              "      <td>2024-03-31</td>\n",
              "      <td>1.0</td>\n",
              "      <td>1.0</td>\n",
              "      <td>1</td>\n",
              "      <td>0</td>\n",
              "      <td>1.5618</td>\n",
              "      <td>16.13</td>\n",
              "      <td>77.40</td>\n",
              "      <td>1.76</td>\n",
              "    </tr>\n",
              "    <tr>\n",
              "      <th>4</th>\n",
              "      <td>0</td>\n",
              "      <td>bread</td>\n",
              "      <td>2024-04-01</td>\n",
              "      <td>2.0</td>\n",
              "      <td>1.0</td>\n",
              "      <td>0</td>\n",
              "      <td>0</td>\n",
              "      <td>3.5386</td>\n",
              "      <td>15.37</td>\n",
              "      <td>78.26</td>\n",
              "      <td>1.25</td>\n",
              "    </tr>\n",
              "  </tbody>\n",
              "</table>\n",
              "</div>\n",
              "    <div class=\"colab-df-buttons\">\n",
              "\n",
              "  <div class=\"colab-df-container\">\n",
              "    <button class=\"colab-df-convert\" onclick=\"convertToInteractive('df-4b1a7b46-d48a-4b9d-99f7-330b9e310fa9')\"\n",
              "            title=\"Convert this dataframe to an interactive table.\"\n",
              "            style=\"display:none;\">\n",
              "\n",
              "  <svg xmlns=\"http://www.w3.org/2000/svg\" height=\"24px\" viewBox=\"0 -960 960 960\">\n",
              "    <path d=\"M120-120v-720h720v720H120Zm60-500h600v-160H180v160Zm220 220h160v-160H400v160Zm0 220h160v-160H400v160ZM180-400h160v-160H180v160Zm440 0h160v-160H620v160ZM180-180h160v-160H180v160Zm440 0h160v-160H620v160Z\"/>\n",
              "  </svg>\n",
              "    </button>\n",
              "\n",
              "  <style>\n",
              "    .colab-df-container {\n",
              "      display:flex;\n",
              "      gap: 12px;\n",
              "    }\n",
              "\n",
              "    .colab-df-convert {\n",
              "      background-color: #E8F0FE;\n",
              "      border: none;\n",
              "      border-radius: 50%;\n",
              "      cursor: pointer;\n",
              "      display: none;\n",
              "      fill: #1967D2;\n",
              "      height: 32px;\n",
              "      padding: 0 0 0 0;\n",
              "      width: 32px;\n",
              "    }\n",
              "\n",
              "    .colab-df-convert:hover {\n",
              "      background-color: #E2EBFA;\n",
              "      box-shadow: 0px 1px 2px rgba(60, 64, 67, 0.3), 0px 1px 3px 1px rgba(60, 64, 67, 0.15);\n",
              "      fill: #174EA6;\n",
              "    }\n",
              "\n",
              "    .colab-df-buttons div {\n",
              "      margin-bottom: 4px;\n",
              "    }\n",
              "\n",
              "    [theme=dark] .colab-df-convert {\n",
              "      background-color: #3B4455;\n",
              "      fill: #D2E3FC;\n",
              "    }\n",
              "\n",
              "    [theme=dark] .colab-df-convert:hover {\n",
              "      background-color: #434B5C;\n",
              "      box-shadow: 0px 1px 3px 1px rgba(0, 0, 0, 0.15);\n",
              "      filter: drop-shadow(0px 1px 2px rgba(0, 0, 0, 0.3));\n",
              "      fill: #FFFFFF;\n",
              "    }\n",
              "  </style>\n",
              "\n",
              "    <script>\n",
              "      const buttonEl =\n",
              "        document.querySelector('#df-4b1a7b46-d48a-4b9d-99f7-330b9e310fa9 button.colab-df-convert');\n",
              "      buttonEl.style.display =\n",
              "        google.colab.kernel.accessAllowed ? 'block' : 'none';\n",
              "\n",
              "      async function convertToInteractive(key) {\n",
              "        const element = document.querySelector('#df-4b1a7b46-d48a-4b9d-99f7-330b9e310fa9');\n",
              "        const dataTable =\n",
              "          await google.colab.kernel.invokeFunction('convertToInteractive',\n",
              "                                                    [key], {});\n",
              "        if (!dataTable) return;\n",
              "\n",
              "        const docLinkHtml = 'Like what you see? Visit the ' +\n",
              "          '<a target=\"_blank\" href=https://colab.research.google.com/notebooks/data_table.ipynb>data table notebook</a>'\n",
              "          + ' to learn more about interactive tables.';\n",
              "        element.innerHTML = '';\n",
              "        dataTable['output_type'] = 'display_data';\n",
              "        await google.colab.output.renderOutput(dataTable, element);\n",
              "        const docLink = document.createElement('div');\n",
              "        docLink.innerHTML = docLinkHtml;\n",
              "        element.appendChild(docLink);\n",
              "      }\n",
              "    </script>\n",
              "  </div>\n",
              "\n",
              "\n",
              "    <div id=\"df-2b10b2b9-cabb-4cce-aaf8-1ec1c1cae495\">\n",
              "      <button class=\"colab-df-quickchart\" onclick=\"quickchart('df-2b10b2b9-cabb-4cce-aaf8-1ec1c1cae495')\"\n",
              "                title=\"Suggest charts\"\n",
              "                style=\"display:none;\">\n",
              "\n",
              "<svg xmlns=\"http://www.w3.org/2000/svg\" height=\"24px\"viewBox=\"0 0 24 24\"\n",
              "     width=\"24px\">\n",
              "    <g>\n",
              "        <path d=\"M19 3H5c-1.1 0-2 .9-2 2v14c0 1.1.9 2 2 2h14c1.1 0 2-.9 2-2V5c0-1.1-.9-2-2-2zM9 17H7v-7h2v7zm4 0h-2V7h2v10zm4 0h-2v-4h2v4z\"/>\n",
              "    </g>\n",
              "</svg>\n",
              "      </button>\n",
              "\n",
              "<style>\n",
              "  .colab-df-quickchart {\n",
              "      --bg-color: #E8F0FE;\n",
              "      --fill-color: #1967D2;\n",
              "      --hover-bg-color: #E2EBFA;\n",
              "      --hover-fill-color: #174EA6;\n",
              "      --disabled-fill-color: #AAA;\n",
              "      --disabled-bg-color: #DDD;\n",
              "  }\n",
              "\n",
              "  [theme=dark] .colab-df-quickchart {\n",
              "      --bg-color: #3B4455;\n",
              "      --fill-color: #D2E3FC;\n",
              "      --hover-bg-color: #434B5C;\n",
              "      --hover-fill-color: #FFFFFF;\n",
              "      --disabled-bg-color: #3B4455;\n",
              "      --disabled-fill-color: #666;\n",
              "  }\n",
              "\n",
              "  .colab-df-quickchart {\n",
              "    background-color: var(--bg-color);\n",
              "    border: none;\n",
              "    border-radius: 50%;\n",
              "    cursor: pointer;\n",
              "    display: none;\n",
              "    fill: var(--fill-color);\n",
              "    height: 32px;\n",
              "    padding: 0;\n",
              "    width: 32px;\n",
              "  }\n",
              "\n",
              "  .colab-df-quickchart:hover {\n",
              "    background-color: var(--hover-bg-color);\n",
              "    box-shadow: 0 1px 2px rgba(60, 64, 67, 0.3), 0 1px 3px 1px rgba(60, 64, 67, 0.15);\n",
              "    fill: var(--button-hover-fill-color);\n",
              "  }\n",
              "\n",
              "  .colab-df-quickchart-complete:disabled,\n",
              "  .colab-df-quickchart-complete:disabled:hover {\n",
              "    background-color: var(--disabled-bg-color);\n",
              "    fill: var(--disabled-fill-color);\n",
              "    box-shadow: none;\n",
              "  }\n",
              "\n",
              "  .colab-df-spinner {\n",
              "    border: 2px solid var(--fill-color);\n",
              "    border-color: transparent;\n",
              "    border-bottom-color: var(--fill-color);\n",
              "    animation:\n",
              "      spin 1s steps(1) infinite;\n",
              "  }\n",
              "\n",
              "  @keyframes spin {\n",
              "    0% {\n",
              "      border-color: transparent;\n",
              "      border-bottom-color: var(--fill-color);\n",
              "      border-left-color: var(--fill-color);\n",
              "    }\n",
              "    20% {\n",
              "      border-color: transparent;\n",
              "      border-left-color: var(--fill-color);\n",
              "      border-top-color: var(--fill-color);\n",
              "    }\n",
              "    30% {\n",
              "      border-color: transparent;\n",
              "      border-left-color: var(--fill-color);\n",
              "      border-top-color: var(--fill-color);\n",
              "      border-right-color: var(--fill-color);\n",
              "    }\n",
              "    40% {\n",
              "      border-color: transparent;\n",
              "      border-right-color: var(--fill-color);\n",
              "      border-top-color: var(--fill-color);\n",
              "    }\n",
              "    60% {\n",
              "      border-color: transparent;\n",
              "      border-right-color: var(--fill-color);\n",
              "    }\n",
              "    80% {\n",
              "      border-color: transparent;\n",
              "      border-right-color: var(--fill-color);\n",
              "      border-bottom-color: var(--fill-color);\n",
              "    }\n",
              "    90% {\n",
              "      border-color: transparent;\n",
              "      border-bottom-color: var(--fill-color);\n",
              "    }\n",
              "  }\n",
              "</style>\n",
              "\n",
              "      <script>\n",
              "        async function quickchart(key) {\n",
              "          const quickchartButtonEl =\n",
              "            document.querySelector('#' + key + ' button');\n",
              "          quickchartButtonEl.disabled = true;  // To prevent multiple clicks.\n",
              "          quickchartButtonEl.classList.add('colab-df-spinner');\n",
              "          try {\n",
              "            const charts = await google.colab.kernel.invokeFunction(\n",
              "                'suggestCharts', [key], {});\n",
              "          } catch (error) {\n",
              "            console.error('Error during call to suggestCharts:', error);\n",
              "          }\n",
              "          quickchartButtonEl.classList.remove('colab-df-spinner');\n",
              "          quickchartButtonEl.classList.add('colab-df-quickchart-complete');\n",
              "        }\n",
              "        (() => {\n",
              "          let quickchartButtonEl =\n",
              "            document.querySelector('#df-2b10b2b9-cabb-4cce-aaf8-1ec1c1cae495 button');\n",
              "          quickchartButtonEl.style.display =\n",
              "            google.colab.kernel.accessAllowed ? 'block' : 'none';\n",
              "        })();\n",
              "      </script>\n",
              "    </div>\n",
              "\n",
              "    </div>\n",
              "  </div>\n"
            ],
            "application/vnd.google.colaboratory.intrinsic+json": {
              "type": "dataframe",
              "variable_name": "df",
              "summary": "{\n  \"name\": \"df\",\n  \"rows\": 2070,\n  \"fields\": [\n    {\n      \"column\": \"store_id\",\n      \"properties\": {\n        \"dtype\": \"number\",\n        \"std\": 11,\n        \"min\": 0,\n        \"max\": 34,\n        \"num_unique_values\": 10,\n        \"samples\": [\n          29,\n          1,\n          18\n        ],\n        \"semantic_type\": \"\",\n        \"description\": \"\"\n      }\n    },\n    {\n      \"column\": \"product_name\",\n      \"properties\": {\n        \"dtype\": \"category\",\n        \"num_unique_values\": 3,\n        \"samples\": [\n          \"bread\",\n          \"meat\",\n          \"chicken\"\n        ],\n        \"semantic_type\": \"\",\n        \"description\": \"\"\n      }\n    },\n    {\n      \"column\": \"dt\",\n      \"properties\": {\n        \"dtype\": \"object\",\n        \"num_unique_values\": 90,\n        \"samples\": [\n          \"2024-05-07\",\n          \"2024-04-19\",\n          \"2024-05-22\"\n        ],\n        \"semantic_type\": \"\",\n        \"description\": \"\"\n      }\n    },\n    {\n      \"column\": \"sale_amount\",\n      \"properties\": {\n        \"dtype\": \"number\",\n        \"std\": 8.996006608571129,\n        \"min\": 0.0,\n        \"max\": 62.0,\n        \"num_unique_values\": 51,\n        \"samples\": [\n          39.0,\n          44.0,\n          36.0\n        ],\n        \"semantic_type\": \"\",\n        \"description\": \"\"\n      }\n    },\n    {\n      \"column\": \"discount\",\n      \"properties\": {\n        \"dtype\": \"number\",\n        \"std\": 0.1093255880971972,\n        \"min\": 0.5,\n        \"max\": 1.0,\n        \"num_unique_values\": 170,\n        \"samples\": [\n          0.951,\n          0.784,\n          0.7714966535568237\n        ],\n        \"semantic_type\": \"\",\n        \"description\": \"\"\n      }\n    },\n    {\n      \"column\": \"holiday_flag\",\n      \"properties\": {\n        \"dtype\": \"number\",\n        \"std\": 0,\n        \"min\": 0,\n        \"max\": 1,\n        \"num_unique_values\": 2,\n        \"samples\": [\n          1,\n          0\n        ],\n        \"semantic_type\": \"\",\n        \"description\": \"\"\n      }\n    },\n    {\n      \"column\": \"activity_flag\",\n      \"properties\": {\n        \"dtype\": \"number\",\n        \"std\": 0,\n        \"min\": 0,\n        \"max\": 1,\n        \"num_unique_values\": 2,\n        \"samples\": [\n          1,\n          0\n        ],\n        \"semantic_type\": \"\",\n        \"description\": \"\"\n      }\n    },\n    {\n      \"column\": \"precpt\",\n      \"properties\": {\n        \"dtype\": \"number\",\n        \"std\": 2.971092096769571,\n        \"min\": 0.2718,\n        \"max\": 14.2064,\n        \"num_unique_values\": 804,\n        \"samples\": [\n          2.8222,\n          14.1593\n        ],\n        \"semantic_type\": \"\",\n        \"description\": \"\"\n      }\n    },\n    {\n      \"column\": \"avg_temperature\",\n      \"properties\": {\n        \"dtype\": \"number\",\n        \"std\": 3.5151381429281403,\n        \"min\": 15.08,\n        \"max\": 28.72,\n        \"num_unique_values\": 448,\n        \"samples\": [\n          27.19,\n          22.54\n        ],\n        \"semantic_type\": \"\",\n        \"description\": \"\"\n      }\n    },\n    {\n      \"column\": \"avg_humidity\",\n      \"properties\": {\n        \"dtype\": \"number\",\n        \"std\": 5.198573331661239,\n        \"min\": 62.8,\n        \"max\": 86.95,\n        \"num_unique_values\": 556,\n        \"samples\": [\n          66.53,\n          77.82\n        ],\n        \"semantic_type\": \"\",\n        \"description\": \"\"\n      }\n    },\n    {\n      \"column\": \"avg_wind_level\",\n      \"properties\": {\n        \"dtype\": \"number\",\n        \"std\": 0.23158931735038243,\n        \"min\": 1.04,\n        \"max\": 2.25,\n        \"num_unique_values\": 98,\n        \"samples\": [\n          1.22,\n          1.61\n        ],\n        \"semantic_type\": \"\",\n        \"description\": \"\"\n      }\n    }\n  ]\n}"
            }
          },
          "metadata": {},
          "execution_count": 9
        }
      ]
    },
    {
      "cell_type": "code",
      "source": [
        "df[\"month\"] = pd.to_datetime(df['dt']).dt.month\n",
        "df[\"day\"] = pd.to_datetime(df['dt']).dt.day"
      ],
      "metadata": {
        "id": "u0ZrX0jd8zWr"
      },
      "execution_count": null,
      "outputs": []
    },
    {
      "cell_type": "code",
      "source": [
        "df.head()"
      ],
      "metadata": {
        "id": "U7Lo2mYuFm6K"
      },
      "execution_count": null,
      "outputs": []
    },
    {
      "cell_type": "code",
      "source": [
        "from sklearn.multioutput import MultiOutputRegressor\n",
        "from lightgbm import LGBMRegressor"
      ],
      "metadata": {
        "id": "cruL1HR8gPMT"
      },
      "execution_count": null,
      "outputs": []
    },
    {
      "cell_type": "code",
      "source": [
        "X_weather = df[['month','day']]\n",
        "y_weather = df[['avg_temperature', 'avg_humidity', 'precpt', 'avg_wind_level']]\n",
        "\n",
        "Xw_train ,Xw_test ,yw_train,yw_test = train_test_split(X_weather,y_weather,test_size=0.2,random_state=42)\n",
        "model_weather =MultiOutputRegressor(LGBMRegressor())\n",
        "model_weather.fit(Xw_train,yw_train)\n",
        "\n",
        "models_sales = {}\n",
        "products = df['product_name'].unique()\n",
        "\n",
        "for product in products:\n",
        "  product_df = df[df['product_name'] == product]\n",
        "\n",
        "  pred_weather = model_weather.predict(product_df[['month','day']])\n",
        "  pred_weather_df = pd.DataFrame(pred_weather , columns=['avg_temperature', 'avg_humidity', 'precpt', 'avg_wind_level']).reset_index(drop=True)\n",
        "\n",
        "  X_sales = pd.concat([\n",
        "      pred_weather_df,\n",
        "      product_df[['discount', 'holiday_flag', 'activity_flag']].reset_index(drop=True)\n",
        "\n",
        "  ],axis=1)\n",
        "  y_sales = product_df['sale_amount'].reset_index(drop=True)\n",
        "\n",
        "  Xs_train ,Xs_test ,ys_train ,ys_test = train_test_split(X_sales,y_sales,test_size=0.2,random_state=42)\n",
        "\n",
        "  model_sales = LGBMRegressor()\n",
        "  model_sales.fit(Xs_train,ys_train)\n",
        "  models_sales[product] = model_sales\n",
        "\n",
        "def predict_sales(month, day, discount=1.0, holiday_flag=0, activity_flag=0):\n",
        "    # Step 1: Predict weather\n",
        "    predicted_weather = model_weather.predict([[month, day]])[0]  # vector [temp, humidity, precpt, wind]\n",
        "\n",
        "    # Step 2: Predict sales for each product\n",
        "    predictions = {}\n",
        "    for product in products:\n",
        "        X_input = [*predicted_weather, discount, holiday_flag, activity_flag]\n",
        "        predictions[product] = models_sales[product].predict([X_input])[0]\n",
        "    return predictions\n",
        "\n",
        "\n"
      ],
      "metadata": {
        "id": "vVn9g75eFrKL"
      },
      "execution_count": null,
      "outputs": []
    },
    {
      "cell_type": "code",
      "source": [
        "# Round values and convert to normal Python floats\n",
        "\n",
        "clean_predictions = {k: round(float(v), 2) for k, v in predict_sales(1, 31, discount=0.8, holiday_flag=1, activity_flag=0).items()}\n",
        "print(clean_predictions)\n"
      ],
      "metadata": {
        "id": "nDGu4XF-uDMR"
      },
      "execution_count": null,
      "outputs": []
    },
    {
      "cell_type": "code",
      "source": [
        "from sklearn.metrics import mean_absolute_error, mean_squared_error\n",
        "import numpy as np\n",
        "\n",
        "# Predict on test set\n",
        "weather_preds = model_weather.predict(Xw_test)\n",
        "\n",
        "# Loop over each target weather variable\n",
        "weather_features = ['avg_temperature', 'avg_humidity', 'precpt', 'avg_wind_level']\n",
        "for i, feature in enumerate(weather_features):\n",
        "    mae = mean_absolute_error(yw_test.iloc[:, i], weather_preds[:, i])\n",
        "    rmse = np.sqrt(mean_squared_error(yw_test.iloc[:, i], weather_preds[:, i]))\n",
        "    print(f\"{feature}: MAE = {mae:.2f}, RMSE = {rmse:.2f}\")\n"
      ],
      "metadata": {
        "colab": {
          "base_uri": "https://localhost:8080/"
        },
        "id": "XTjpx48DyON1",
        "outputId": "f0473e54-64ea-496a-8745-4c831ad81f13"
      },
      "execution_count": null,
      "outputs": [
        {
          "output_type": "stream",
          "name": "stdout",
          "text": [
            "avg_temperature: MAE = 0.30, RMSE = 0.34\n",
            "avg_humidity: MAE = 0.24, RMSE = 0.30\n",
            "precpt: MAE = 0.13, RMSE = 0.20\n",
            "avg_wind_level: MAE = 0.08, RMSE = 0.11\n"
          ]
        }
      ]
    },
    {
      "cell_type": "code",
      "source": [
        "for product in products:\n",
        "    product_df = df[df['product_name'] == product]\n",
        "\n",
        "    # Predict weather for this product's dates\n",
        "    pred_weather = model_weather.predict(product_df[['month', 'day']])\n",
        "    pred_weather_df = pd.DataFrame(pred_weather, columns=['avg_temperature', 'avg_humidity', 'precpt', 'avg_wind_level']).reset_index(drop=True)\n",
        "\n",
        "    # Build the sales feature set\n",
        "    X_sales = pd.concat([\n",
        "        pred_weather_df,\n",
        "        product_df[['discount', 'holiday_flag', 'activity_flag']].reset_index(drop=True)\n",
        "    ], axis=1)\n",
        "    y_sales = product_df['sale_amount'].reset_index(drop=True)\n",
        "\n",
        "    # Predict sales\n",
        "    preds_sales = models_sales[product].predict(X_sales)\n",
        "\n",
        "    # Calculate metrics\n",
        "    mae = mean_absolute_error(y_sales, preds_sales)\n",
        "    rmse = np.sqrt(mean_squared_error(y_sales, preds_sales))\n",
        "    print(f\"{product} Sales: MAE = {mae:.2f}, RMSE = {rmse:.2f}\")\n"
      ],
      "metadata": {
        "colab": {
          "base_uri": "https://localhost:8080/"
        },
        "id": "MGT9KuzEzen2",
        "outputId": "2d237534-0c34-4685-b337-7cfc2a29177d"
      },
      "execution_count": null,
      "outputs": [
        {
          "output_type": "stream",
          "name": "stdout",
          "text": [
            "bread Sales: MAE = 1.89, RMSE = 3.14\n",
            "meat Sales: MAE = 3.87, RMSE = 5.26\n",
            "chicken Sales: MAE = 2.32, RMSE = 3.28\n"
          ]
        }
      ]
    }
  ]
}