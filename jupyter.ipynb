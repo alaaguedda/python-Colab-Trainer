{
  "cells": [
    {
      "cell_type": "markdown",
      "metadata": {
        "id": "view-in-github",
        "colab_type": "text"
      },
      "source": [
        "<a href=\"https://colab.research.google.com/github/alaaguedda/python-Colab-Trainer/blob/main/jupyter.ipynb\" target=\"_parent\"><img src=\"https://colab.research.google.com/assets/colab-badge.svg\" alt=\"Open In Colab\"/></a>"
      ]
    },
    {
      "cell_type": "code",
      "source": [
        "import pandas as pd\n",
        "import numpy as np\n",
        "import matplotlib.pyplot as plt\n",
        "import seaborn as sns"
      ],
      "metadata": {
        "id": "53WbTkYexBMv"
      },
      "id": "53WbTkYexBMv",
      "execution_count": 1,
      "outputs": []
    },
    {
      "cell_type": "code",
      "source": [
        "!pip install kaggle\n",
        "from google.colab import files\n",
        "files.upload()  # Upload kaggle.json\n",
        "\n",
        "!mkdir -p ~/.kaggle\n",
        "!cp kaggle.json ~/.kaggle/\n",
        "!chmod 600 ~/.kaggle/kaggle.json\n",
        "\n",
        "!kaggle datasets list  # To check popular datasets\n",
        "!kaggle datasets download -d <dataset-id>\n",
        "!mkdir -p ~/.kaggle\n",
        "!cp kaggle.json ~/.kaggle/\n",
        "!chmod 600 ~/.kaggle/kaggle.json\n",
        "!pip install -q kaggle\n",
        "!kaggle datasets download -d adilshamim8/salaries-for-data-science-jobs\n",
        "!unzip salaries-for-data-science-jobs.zip\n",
        "df = pd.read_csv(\"salaries.csv\")  # Use the actual file name if different\n"
      ],
      "metadata": {
        "id": "4zcc0SZkxtT-",
        "outputId": "deff8715-c7a5-4276-a785-23a5120aa2af",
        "colab": {
          "base_uri": "https://localhost:8080/",
          "height": 908
        }
      },
      "id": "4zcc0SZkxtT-",
      "execution_count": 3,
      "outputs": [
        {
          "output_type": "stream",
          "name": "stdout",
          "text": [
            "Requirement already satisfied: kaggle in /usr/local/lib/python3.11/dist-packages (1.7.4.5)\n",
            "Requirement already satisfied: bleach in /usr/local/lib/python3.11/dist-packages (from kaggle) (6.2.0)\n",
            "Requirement already satisfied: certifi>=14.05.14 in /usr/local/lib/python3.11/dist-packages (from kaggle) (2025.7.9)\n",
            "Requirement already satisfied: charset-normalizer in /usr/local/lib/python3.11/dist-packages (from kaggle) (3.4.2)\n",
            "Requirement already satisfied: idna in /usr/local/lib/python3.11/dist-packages (from kaggle) (3.10)\n",
            "Requirement already satisfied: protobuf in /usr/local/lib/python3.11/dist-packages (from kaggle) (5.29.5)\n",
            "Requirement already satisfied: python-dateutil>=2.5.3 in /usr/local/lib/python3.11/dist-packages (from kaggle) (2.9.0.post0)\n",
            "Requirement already satisfied: python-slugify in /usr/local/lib/python3.11/dist-packages (from kaggle) (8.0.4)\n",
            "Requirement already satisfied: requests in /usr/local/lib/python3.11/dist-packages (from kaggle) (2.32.3)\n",
            "Requirement already satisfied: setuptools>=21.0.0 in /usr/local/lib/python3.11/dist-packages (from kaggle) (75.2.0)\n",
            "Requirement already satisfied: six>=1.10 in /usr/local/lib/python3.11/dist-packages (from kaggle) (1.17.0)\n",
            "Requirement already satisfied: text-unidecode in /usr/local/lib/python3.11/dist-packages (from kaggle) (1.3)\n",
            "Requirement already satisfied: tqdm in /usr/local/lib/python3.11/dist-packages (from kaggle) (4.67.1)\n",
            "Requirement already satisfied: urllib3>=1.15.1 in /usr/local/lib/python3.11/dist-packages (from kaggle) (2.4.0)\n",
            "Requirement already satisfied: webencodings in /usr/local/lib/python3.11/dist-packages (from kaggle) (0.5.1)\n"
          ]
        },
        {
          "output_type": "display_data",
          "data": {
            "text/plain": [
              "<IPython.core.display.HTML object>"
            ],
            "text/html": [
              "\n",
              "     <input type=\"file\" id=\"files-32133467-7a99-42c5-8a60-5f260145e718\" name=\"files[]\" multiple disabled\n",
              "        style=\"border:none\" />\n",
              "     <output id=\"result-32133467-7a99-42c5-8a60-5f260145e718\">\n",
              "      Upload widget is only available when the cell has been executed in the\n",
              "      current browser session. Please rerun this cell to enable.\n",
              "      </output>\n",
              "      <script>// Copyright 2017 Google LLC\n",
              "//\n",
              "// Licensed under the Apache License, Version 2.0 (the \"License\");\n",
              "// you may not use this file except in compliance with the License.\n",
              "// You may obtain a copy of the License at\n",
              "//\n",
              "//      http://www.apache.org/licenses/LICENSE-2.0\n",
              "//\n",
              "// Unless required by applicable law or agreed to in writing, software\n",
              "// distributed under the License is distributed on an \"AS IS\" BASIS,\n",
              "// WITHOUT WARRANTIES OR CONDITIONS OF ANY KIND, either express or implied.\n",
              "// See the License for the specific language governing permissions and\n",
              "// limitations under the License.\n",
              "\n",
              "/**\n",
              " * @fileoverview Helpers for google.colab Python module.\n",
              " */\n",
              "(function(scope) {\n",
              "function span(text, styleAttributes = {}) {\n",
              "  const element = document.createElement('span');\n",
              "  element.textContent = text;\n",
              "  for (const key of Object.keys(styleAttributes)) {\n",
              "    element.style[key] = styleAttributes[key];\n",
              "  }\n",
              "  return element;\n",
              "}\n",
              "\n",
              "// Max number of bytes which will be uploaded at a time.\n",
              "const MAX_PAYLOAD_SIZE = 100 * 1024;\n",
              "\n",
              "function _uploadFiles(inputId, outputId) {\n",
              "  const steps = uploadFilesStep(inputId, outputId);\n",
              "  const outputElement = document.getElementById(outputId);\n",
              "  // Cache steps on the outputElement to make it available for the next call\n",
              "  // to uploadFilesContinue from Python.\n",
              "  outputElement.steps = steps;\n",
              "\n",
              "  return _uploadFilesContinue(outputId);\n",
              "}\n",
              "\n",
              "// This is roughly an async generator (not supported in the browser yet),\n",
              "// where there are multiple asynchronous steps and the Python side is going\n",
              "// to poll for completion of each step.\n",
              "// This uses a Promise to block the python side on completion of each step,\n",
              "// then passes the result of the previous step as the input to the next step.\n",
              "function _uploadFilesContinue(outputId) {\n",
              "  const outputElement = document.getElementById(outputId);\n",
              "  const steps = outputElement.steps;\n",
              "\n",
              "  const next = steps.next(outputElement.lastPromiseValue);\n",
              "  return Promise.resolve(next.value.promise).then((value) => {\n",
              "    // Cache the last promise value to make it available to the next\n",
              "    // step of the generator.\n",
              "    outputElement.lastPromiseValue = value;\n",
              "    return next.value.response;\n",
              "  });\n",
              "}\n",
              "\n",
              "/**\n",
              " * Generator function which is called between each async step of the upload\n",
              " * process.\n",
              " * @param {string} inputId Element ID of the input file picker element.\n",
              " * @param {string} outputId Element ID of the output display.\n",
              " * @return {!Iterable<!Object>} Iterable of next steps.\n",
              " */\n",
              "function* uploadFilesStep(inputId, outputId) {\n",
              "  const inputElement = document.getElementById(inputId);\n",
              "  inputElement.disabled = false;\n",
              "\n",
              "  const outputElement = document.getElementById(outputId);\n",
              "  outputElement.innerHTML = '';\n",
              "\n",
              "  const pickedPromise = new Promise((resolve) => {\n",
              "    inputElement.addEventListener('change', (e) => {\n",
              "      resolve(e.target.files);\n",
              "    });\n",
              "  });\n",
              "\n",
              "  const cancel = document.createElement('button');\n",
              "  inputElement.parentElement.appendChild(cancel);\n",
              "  cancel.textContent = 'Cancel upload';\n",
              "  const cancelPromise = new Promise((resolve) => {\n",
              "    cancel.onclick = () => {\n",
              "      resolve(null);\n",
              "    };\n",
              "  });\n",
              "\n",
              "  // Wait for the user to pick the files.\n",
              "  const files = yield {\n",
              "    promise: Promise.race([pickedPromise, cancelPromise]),\n",
              "    response: {\n",
              "      action: 'starting',\n",
              "    }\n",
              "  };\n",
              "\n",
              "  cancel.remove();\n",
              "\n",
              "  // Disable the input element since further picks are not allowed.\n",
              "  inputElement.disabled = true;\n",
              "\n",
              "  if (!files) {\n",
              "    return {\n",
              "      response: {\n",
              "        action: 'complete',\n",
              "      }\n",
              "    };\n",
              "  }\n",
              "\n",
              "  for (const file of files) {\n",
              "    const li = document.createElement('li');\n",
              "    li.append(span(file.name, {fontWeight: 'bold'}));\n",
              "    li.append(span(\n",
              "        `(${file.type || 'n/a'}) - ${file.size} bytes, ` +\n",
              "        `last modified: ${\n",
              "            file.lastModifiedDate ? file.lastModifiedDate.toLocaleDateString() :\n",
              "                                    'n/a'} - `));\n",
              "    const percent = span('0% done');\n",
              "    li.appendChild(percent);\n",
              "\n",
              "    outputElement.appendChild(li);\n",
              "\n",
              "    const fileDataPromise = new Promise((resolve) => {\n",
              "      const reader = new FileReader();\n",
              "      reader.onload = (e) => {\n",
              "        resolve(e.target.result);\n",
              "      };\n",
              "      reader.readAsArrayBuffer(file);\n",
              "    });\n",
              "    // Wait for the data to be ready.\n",
              "    let fileData = yield {\n",
              "      promise: fileDataPromise,\n",
              "      response: {\n",
              "        action: 'continue',\n",
              "      }\n",
              "    };\n",
              "\n",
              "    // Use a chunked sending to avoid message size limits. See b/62115660.\n",
              "    let position = 0;\n",
              "    do {\n",
              "      const length = Math.min(fileData.byteLength - position, MAX_PAYLOAD_SIZE);\n",
              "      const chunk = new Uint8Array(fileData, position, length);\n",
              "      position += length;\n",
              "\n",
              "      const base64 = btoa(String.fromCharCode.apply(null, chunk));\n",
              "      yield {\n",
              "        response: {\n",
              "          action: 'append',\n",
              "          file: file.name,\n",
              "          data: base64,\n",
              "        },\n",
              "      };\n",
              "\n",
              "      let percentDone = fileData.byteLength === 0 ?\n",
              "          100 :\n",
              "          Math.round((position / fileData.byteLength) * 100);\n",
              "      percent.textContent = `${percentDone}% done`;\n",
              "\n",
              "    } while (position < fileData.byteLength);\n",
              "  }\n",
              "\n",
              "  // All done.\n",
              "  yield {\n",
              "    response: {\n",
              "      action: 'complete',\n",
              "    }\n",
              "  };\n",
              "}\n",
              "\n",
              "scope.google = scope.google || {};\n",
              "scope.google.colab = scope.google.colab || {};\n",
              "scope.google.colab._files = {\n",
              "  _uploadFiles,\n",
              "  _uploadFilesContinue,\n",
              "};\n",
              "})(self);\n",
              "</script> "
            ]
          },
          "metadata": {}
        },
        {
          "output_type": "stream",
          "name": "stdout",
          "text": [
            "Saving kaggle.json to kaggle.json\n",
            "ref                                                                     title                                                     size  lastUpdated                 downloadCount  voteCount  usabilityRating  \n",
            "----------------------------------------------------------------------  --------------------------------------------------  ----------  --------------------------  -------------  ---------  ---------------  \n",
            "urvishahir/electric-vehicle-specifications-dataset-2025                 Electric Vehicle Specs Dataset (2025)🔋🚗                  16631  2025-06-20 07:14:56.777000           7591        188  1.0              \n",
            "divyaraj2006/social-media-engagement                                    social media engagement                                   2142  2025-07-02 15:34:21.323000           3667         73  1.0              \n",
            "sahilislam007/college-student-placement-factors-dataset                 College Student Placement Factors Dataset               110450  2025-07-02 08:33:50.547000           2421         44  1.0              \n",
            "adilshamim8/salaries-for-data-science-jobs                              Data Science, AI & ML Job Salaries in 2025             2398991  2025-07-12 03:50:31.453000           4747         99  1.0              \n",
            "ankushpanday2/indian-kids-screentime-2025                               Indian Kids Screentime 2025                              70001  2025-07-08 17:25:35.483000           1465         31  1.0              \n",
            "vinayaks0n1/ipl-2025                                                    IPL 2025                                                  8159  2025-06-22 04:53:34.497000           1830         40  1.0              \n",
            "adilshamim8/netflix-stock-price-history                                 NETFLIX STOCK PRICE HISTORY                             126558  2025-07-08 02:57:07.553000           1867         46  1.0              \n",
            "gmudit/linear-regression-dataset-synthetic                              Linear_Regression_Dataset [Synthetic]                    18915  2025-06-28 05:50:49.333000            547         22  1.0              \n",
            "atharvasoundankar/global-student-migration-and-higher-education-trends  Global Student Migration & Higher Education Trends      121701  2025-07-02 12:08:00.377000           1662         56  1.0              \n",
            "shalmamuji/electricity-cost-prediction-dataset                          Electricity cost prediction dataset                     158026  2025-07-03 21:22:59.450000            489         26  1.0              \n",
            "sahilislam007/ai-impact-on-job-market-20242030                          AI Impact on Job Market: (2024–2030)                    967504  2025-06-28 07:44:15.533000           1405         34  1.0              \n",
            "abdulwadood11220/netflix-customer-churn-dataset                         Netflix Customer Churn dataset                          190004  2025-07-05 21:38:12.010000           1296         32  1.0              \n",
            "khushikyad001/teen-phone-addiction-and-lifestyle-survey                 Teen Phone Addiction and Lifestyle Survey               121372  2025-06-28 05:53:15.763000           1969         34  1.0              \n",
            "melissamonfared/spotify-tracks-attributes-and-popularity                Spotify Tracks Attributes and Popularity               8571540  2025-07-09 21:31:43.180000            684         29  1.0              \n",
            "dansbecker/melbourne-housing-snapshot                                   Melbourne Housing Snapshot                              461423  2018-06-05 12:52:24.087000         185396       1650  0.7058824        \n",
            "prekshad2166/student-study-habits                                       Student Study Habits                                     22339  2025-06-13 06:17:45.500000            823         17  1.0              \n",
            "datasnaek/youtube-new                                                   Trending YouTube Video Statistics                    210575746  2019-06-03 00:56:47.177000         277188       5716  0.7941176        \n",
            "zynicide/wine-reviews                                                   Wine Reviews                                          53336293  2017-11-27 17:08:04.700000         329739       3753  0.7941176        \n",
            "darrendube/airlinedataset                                               Airline Performance Data: FY 2022/23                      3265  2025-06-30 18:58:09.330000           1078         29  1.0              \n",
            "datasnaek/chess                                                         Chess Game Dataset (Lichess)                           2903760  2017-09-04 03:09:09.453000          56281       1362  0.8235294        \n",
            "/bin/bash: -c: line 1: syntax error near unexpected token `newline'\n",
            "/bin/bash: -c: line 1: `kaggle datasets download -d <dataset-id>'\n",
            "Dataset URL: https://www.kaggle.com/datasets/adilshamim8/salaries-for-data-science-jobs\n",
            "License(s): DbCL-1.0\n",
            "Downloading salaries-for-data-science-jobs.zip to /content\n",
            "  0% 0.00/2.29M [00:00<?, ?B/s]\n",
            "100% 2.29M/2.29M [00:00<00:00, 620MB/s]\n",
            "Archive:  salaries-for-data-science-jobs.zip\n",
            "  inflating: salaries.csv            \n",
            "  inflating: salaries.json           \n"
          ]
        }
      ]
    },
    {
      "cell_type": "code",
      "source": [
        "from google.colab import drive\n",
        "drive.mount('/content/drive')"
      ],
      "metadata": {
        "id": "JMjn27Z2CmqV"
      },
      "id": "JMjn27Z2CmqV",
      "execution_count": null,
      "outputs": []
    },
    {
      "cell_type": "code",
      "source": [
        "df_clean = df.dropna(subset= ['job_title'])\n",
        "\n",
        "job_counts = df_clean['job_title'].value_counts()\n",
        "top5 = job_counts[:7]\n",
        "others = job_counts[7:].sum()\n",
        "\n",
        "final_counts = pd.concat([top5 , pd.Series({'Others':others})])\n",
        "\n",
        "plt.figure(figsize=(8, 8))\n",
        "def label_inside(pct, allvals):\n",
        "    absolute = int(round(pct/100 * sum(allvals)))\n",
        "    index = list(final_counts.values).index(absolute)\n",
        "    return f\"{final_counts.index[index]}\\n{pct:.1f}%\"\n",
        "\n",
        "plt.pie(\n",
        "    final_counts,\n",
        "    labels=None,\n",
        "    autopct=lambda pct: label_inside(pct, final_counts),\n",
        "    startangle=140,\n",
        "    textprops={'fontsize': 9}\n",
        ")\n",
        "plt.title(\"Top 5 Job Titles vs Others (Name + % Inside)\")\n",
        "\n",
        "plt.axis(\"equal\")\n",
        "plt.show()"
      ],
      "metadata": {
        "id": "tfn8YRIm4_PS"
      },
      "id": "tfn8YRIm4_PS",
      "execution_count": null,
      "outputs": []
    },
    {
      "cell_type": "code",
      "source": [
        "top5_saleries = df.sort_values(by='salary_in_usd', ascending =False)\n",
        "top5_saleries[['job_title','company_location','salary_in_usd']].head(10)"
      ],
      "metadata": {
        "id": "tOogZMqBKAD5"
      },
      "id": "tOogZMqBKAD5",
      "execution_count": null,
      "outputs": []
    },
    {
      "cell_type": "code",
      "source": [
        "df_exp = df.groupby('experience_level')['salary_in_usd'].mean()\n",
        "df_exp.sort_values()"
      ],
      "metadata": {
        "id": "N7LzLmSyPyAE"
      },
      "id": "N7LzLmSyPyAE",
      "execution_count": null,
      "outputs": []
    },
    {
      "cell_type": "code",
      "source": [
        "df_exp_job = df['experience_level'].value_counts().sort_index()\n",
        "\n",
        "df_exp_job.plot(kind = 'bar')\n",
        "plt.title('job titles for experiance')\n",
        "plt.xlabel('expeciance level')\n",
        "plt.ylabel('job')\n",
        "plt.grid(axis='y')\n",
        "plt.show()"
      ],
      "metadata": {
        "id": "DAsxjleGUo9F"
      },
      "id": "DAsxjleGUo9F",
      "execution_count": null,
      "outputs": []
    },
    {
      "cell_type": "code",
      "source": [
        "bins = [0, 10000, 30000, 50000, 70000, 90000, 120000, 150000, 200000, 250000, 300000, 350000, float('inf')]\n",
        "\n",
        "# Define readable labels for those ranges\n",
        "labels = [\n",
        "    '<10k', '10k-30k', '30k-50k', '50k-70k', '70k-90k', '90k-120k', '120k-150k',\n",
        "    '150k-200k', '200k-250k', '250k-300k', '300k-350k', '>350k'\n",
        "]\n",
        "\n",
        "df['salary_range'] = pd.cut(df['salary_in_usd'] , bins=bins ,labels = labels ,right= False)\n",
        "df"
      ],
      "metadata": {
        "id": "Zigd96alYgL4"
      },
      "id": "Zigd96alYgL4",
      "execution_count": null,
      "outputs": []
    },
    {
      "cell_type": "code",
      "source": [
        "salary_count = df['salary_range'].value_counts().sort_index()\n",
        "plt.figure(figsize=(12, 6))\n",
        "salary_count.plot(kind='bar')\n",
        "plt.title('Salary Distribution by Custom Ranges')\n",
        "plt.xlabel('Salary Range (USD)')\n",
        "plt.ylabel('Number of Jobs')\n",
        "plt.grid(axis='y')\n",
        "plt.show()"
      ],
      "metadata": {
        "id": "iMFaBa5WZTle"
      },
      "id": "iMFaBa5WZTle",
      "execution_count": null,
      "outputs": []
    },
    {
      "cell_type": "code",
      "source": [
        "plt.figure(figsize=(12,6))\n",
        "sns.boxenplot(data=df,x='employment_type',y='salary_in_usd')\n",
        "plt.xlabel('employment')\n",
        "plt.ylabel('salary')\n",
        "plt.show()"
      ],
      "metadata": {
        "id": "qjz08yvlBEFo"
      },
      "id": "qjz08yvlBEFo",
      "execution_count": null,
      "outputs": []
    },
    {
      "cell_type": "code",
      "source": [
        "remote = df['remote_ratio'].value_counts()\n",
        "remote.plot(kind = 'pie')\n"
      ],
      "metadata": {
        "id": "sRmeeRteF-YB"
      },
      "id": "sRmeeRteF-YB",
      "execution_count": null,
      "outputs": []
    },
    {
      "cell_type": "code",
      "source": [
        "avg_Salary = df.groupby('job_title')['salary_in_usd'].median().sort_values( ascending =False)\n",
        "top10_avg = avg_Salary.head(10)\n",
        "top10_avg.plot(kind='barh')\n",
        "plt.show()"
      ],
      "metadata": {
        "id": "bfeZcJ5TJDNr"
      },
      "id": "bfeZcJ5TJDNr",
      "execution_count": null,
      "outputs": []
    },
    {
      "cell_type": "code",
      "source": [
        "sal_country = df.groupby('company_location')['salary_in_usd'].median().sort_values(ascending = False)\n",
        "sal_country"
      ],
      "metadata": {
        "id": "JSmPju_wSh-h"
      },
      "id": "JSmPju_wSh-h",
      "execution_count": null,
      "outputs": []
    },
    {
      "cell_type": "code",
      "source": [
        "filt = df[df['remote_ratio'].isin([0,100])]\n",
        "remote_comp = filt.groupby('remote_ratio')['salary_in_usd'].median()\n",
        "\n",
        "plt.pie(\n",
        "\n",
        "    remote_comp,\n",
        "    labels=remote_comp.index,\n",
        "    startangle=140,\n",
        "    autopct= '%1.1f%%',\n",
        "    textprops={'fontsize': 9}\n",
        ")"
      ],
      "metadata": {
        "id": "fhwsmUI0TgCh"
      },
      "id": "fhwsmUI0TgCh",
      "execution_count": null,
      "outputs": []
    },
    {
      "cell_type": "code",
      "source": [
        "avg_year = df.groupby('work_year')['salary_in_usd'].median()\n",
        "avg_year.plot(kind='line')\n"
      ],
      "metadata": {
        "id": "BypwwWCxXO67"
      },
      "id": "BypwwWCxXO67",
      "execution_count": null,
      "outputs": []
    },
    {
      "cell_type": "code",
      "source": [
        "top6_jobs = df['job_title'].value_counts().head(6).index\n",
        "top_jobs_df = df[df['job_title'].isin(top6_jobs)]\n",
        "job_demand_per_year = top_jobs_df.groupby(['work_year','job_title']).size().unstack(fill_value=0)\n",
        "job_demand_per_year.plot(kind='line',marker='o', figsize=(12, 6))"
      ],
      "metadata": {
        "id": "X2cAaIKy9XLE"
      },
      "id": "X2cAaIKy9XLE",
      "execution_count": null,
      "outputs": []
    },
    {
      "cell_type": "code",
      "source": [
        "senior_dev_df = df[df['experience_level'].isin(['SE'])]\n",
        "best_countries = senior_dev_df.groupby('company_location')['salary_in_usd'].median().sort_values(ascending=False).head(10)\n",
        "best_countries.plot(kind='barh')\n",
        "plt.gca().invert_yaxis()  # Optional: puts highest at the top\n",
        "plt.grid(axis='x', linestyle='--', alpha=0.7)\n",
        "plt.tight_layout()\n",
        "plt.show()"
      ],
      "metadata": {
        "id": "F9if0-2CApH7"
      },
      "id": "F9if0-2CApH7",
      "execution_count": null,
      "outputs": []
    },
    {
      "cell_type": "code",
      "source": [
        "remote_salery_per_level = df.groupby(['experience_level','remote_ratio']).agg({'salary_in_usd': 'mean'}).reset_index()\n",
        "#remote_salery_per_level.plot(kind='bar')\n",
        "sns.barplot(data=remote_salery_per_level, x='experience_level', y='salary_in_usd', hue='remote_ratio')"
      ],
      "metadata": {
        "id": "Js07xds-CQqd"
      },
      "id": "Js07xds-CQqd",
      "execution_count": null,
      "outputs": []
    },
    {
      "cell_type": "code",
      "source": [
        "numeric_df = df.select_dtypes(include=['number'])\n",
        "numeric_df\n",
        "# Compute correlation matrix\n",
        "correlation_matrix = numeric_df.corr()\n",
        "\n",
        "# Plot heatmap\n",
        "plt.figure(figsize=(8, 6))\n",
        "sns.heatmap(correlation_matrix, annot=True, cmap='coolwarm', fmt='.2f', linewidths=0.5)"
      ],
      "metadata": {
        "id": "zZLphzUfO_tP"
      },
      "id": "zZLphzUfO_tP",
      "execution_count": null,
      "outputs": []
    },
    {
      "cell_type": "code",
      "source": [
        "company_size_salary_per_exp = df.groupby(['experience_level','company_size']).agg({'salary_in_usd': 'mean'}).reset_index()\n",
        "#remote_salery_per_level.plot(kind='bar')\n",
        "sns.barplot(data = company_size_salary_per_exp, x='experience_level', y='salary_in_usd', hue='company_size')"
      ],
      "metadata": {
        "id": "mm19MBVXPyBH"
      },
      "id": "mm19MBVXPyBH",
      "execution_count": null,
      "outputs": []
    },
    {
      "cell_type": "code",
      "source": [
        "import seaborn as sns\n",
        "import matplotlib.pyplot as plt\n",
        "\n",
        "# Set a clear style\n",
        "sns.set(style='whitegrid')\n",
        "\n",
        "# Create the scatter plot\n",
        "plt.figure(figsize=(10, 6))\n",
        "sns.scatterplot(\n",
        "    data=df.head(500),\n",
        "    x='remote_ratio',\n",
        "    y='salary_in_usd',\n",
        "    hue='experience_level',\n",
        "    alpha=0.9,              # Transparency for readability\n",
        "    palette='Set2'          # Distinct colors for each level\n",
        ")\n",
        "\n",
        "# Add titles and labels\n"
      ],
      "metadata": {
        "id": "xtb5DJwbQssK"
      },
      "id": "xtb5DJwbQssK",
      "execution_count": null,
      "outputs": []
    },
    {
      "cell_type": "code",
      "source": [
        "job_clusters_df = df.groupby('job_title')[['salary_in_usd', 'remote_ratio']].mean().reset_index()\n",
        "X = job_clusters_df[['salary_in_usd', 'remote_ratio']]\n",
        "from sklearn.cluster import KMeans\n",
        "\n",
        "kmeans = KMeans(n_clusters=3, random_state=0)  # choose 3 or more clusters\n",
        "job_clusters_df['cluster'] = kmeans.fit_predict(X)\n",
        "import matplotlib.pyplot as plt\n",
        "\n",
        "plt.figure(figsize=(8,6))\n",
        "plt.scatter(X['salary_in_usd'], X['remote_ratio'], c=job_clusters_df['cluster'], cmap='viridis')\n",
        "plt.xlabel('Average Salary (USD)')\n",
        "plt.ylabel('Average Remote Ratio')\n",
        "plt.title('KMeans Clustering of Job Titles')\n",
        "plt.show()\n"
      ],
      "metadata": {
        "id": "mCb5nbVjFPDE",
        "outputId": "cdd95ef4-b020-493f-c145-40035fe258ca",
        "colab": {
          "base_uri": "https://localhost:8080/",
          "height": 564
        }
      },
      "id": "mCb5nbVjFPDE",
      "execution_count": 37,
      "outputs": [
        {
          "output_type": "display_data",
          "data": {
            "text/plain": [
              "<Figure size 800x600 with 1 Axes>"
            ],
            "image/png": "[encoded data removed]"
          },
          "metadata": {}
        }
      ]
    }
  ],
  "metadata": {
    "kernelspec": {
      "display_name": "Python 3",
      "name": "python3"
    },
    "language_info": {
      "name": "python"
    },
    "required_libs": [],
    "colab": {
      "provenance": [],
      "include_colab_link": true
    }
  },
  "nbformat": 4,
  "nbformat_minor": 5
}