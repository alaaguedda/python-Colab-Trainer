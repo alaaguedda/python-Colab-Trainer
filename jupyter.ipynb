{
  "cells": [
    {
      "cell_type": "markdown",
      "metadata": {
        "id": "view-in-github",
        "colab_type": "text"
      },
      "source": [
        "<a href=\"https://colab.research.google.com/github/alaaguedda/python-Colab-Trainer/blob/main/jupyter.ipynb\" target=\"_parent\"><img src=\"https://colab.research.google.com/assets/colab-badge.svg\" alt=\"Open In Colab\"/></a>"
      ]
    },
    {
      "cell_type": "code",
      "source": [
        "import pandas as pd\n",
        "import numpy as np\n",
        "import matplotlib.pyplot as plt\n",
        "import seaborn as sns"
      ],
      "metadata": {
        "id": "53WbTkYexBMv"
      },
      "id": "53WbTkYexBMv",
      "execution_count": 1,
      "outputs": []
    },
    {
      "cell_type": "code",
      "source": [
        "!pip install kaggle\n",
        "from google.colab import files\n",
        "files.upload()  # Upload kaggle.json\n",
        "\n",
        "!mkdir -p ~/.kaggle\n",
        "!cp kaggle.json ~/.kaggle/\n",
        "!chmod 600 ~/.kaggle/kaggle.json\n",
        "\n",
        "!kaggle datasets list  # To check popular datasets\n",
        "!kaggle datasets download -d <dataset-id>\n",
        "!mkdir -p ~/.kaggle\n",
        "!cp kaggle.json ~/.kaggle/\n",
        "!chmod 600 ~/.kaggle/kaggle.json\n",
        "!pip install -q kaggle\n",
        "!kaggle datasets download -d adilshamim8/salaries-for-data-science-jobs\n",
        "!unzip salaries-for-data-science-jobs.zip\n",
        "df = pd.read_csv(\"salaries.csv\")  # Use the actual file name if different\n",
        "df.head()"
      ],
      "metadata": {
        "id": "4zcc0SZkxtT-"
      },
      "id": "4zcc0SZkxtT-",
      "execution_count": null,
      "outputs": []
    },
    {
      "cell_type": "code",
      "source": [
        "from google.colab import drive\n",
        "drive.mount('/content/drive')"
      ],
      "metadata": {
        "id": "JMjn27Z2CmqV"
      },
      "id": "JMjn27Z2CmqV",
      "execution_count": null,
      "outputs": []
    },
    {
      "cell_type": "code",
      "source": [
        "df_clean = df.dropna(subset= ['job_title'])\n",
        "\n",
        "job_counts = df_clean['job_title'].value_counts()\n",
        "top5 = job_counts[:7]\n",
        "others = job_counts[7:].sum()\n",
        "\n",
        "final_counts = pd.concat([top5 , pd.Series({'Others':others})])\n",
        "\n",
        "plt.figure(figsize=(8, 8))\n",
        "def label_inside(pct, allvals):\n",
        "    absolute = int(round(pct/100 * sum(allvals)))\n",
        "    index = list(final_counts.values).index(absolute)\n",
        "    return f\"{final_counts.index[index]}\\n{pct:.1f}%\"\n",
        "\n",
        "plt.pie(\n",
        "    final_counts,\n",
        "    labels=None,\n",
        "    autopct=lambda pct: label_inside(pct, final_counts),\n",
        "    startangle=140,\n",
        "    textprops={'fontsize': 9}\n",
        ")\n",
        "plt.title(\"Top 5 Job Titles vs Others (Name + % Inside)\")\n",
        "\n",
        "plt.axis(\"equal\")\n",
        "plt.show()"
      ],
      "metadata": {
        "id": "tfn8YRIm4_PS"
      },
      "id": "tfn8YRIm4_PS",
      "execution_count": null,
      "outputs": []
    },
    {
      "cell_type": "code",
      "source": [
        "top5_saleries = df.sort_values(by='salary_in_usd', ascending =False)\n",
        "top5_saleries[['job_title','company_location','salary_in_usd']].head(10)"
      ],
      "metadata": {
        "id": "tOogZMqBKAD5"
      },
      "id": "tOogZMqBKAD5",
      "execution_count": null,
      "outputs": []
    },
    {
      "cell_type": "code",
      "source": [
        "df_exp = df.groupby('experience_level')['salary_in_usd'].mean()\n",
        "df_exp.sort_values()"
      ],
      "metadata": {
        "id": "N7LzLmSyPyAE"
      },
      "id": "N7LzLmSyPyAE",
      "execution_count": null,
      "outputs": []
    },
    {
      "cell_type": "code",
      "source": [
        "df_exp_job = df['experience_level'].value_counts().sort_index()\n",
        "\n",
        "df_exp_job.plot(kind = 'bar')\n",
        "plt.title('job titles for experiance')\n",
        "plt.xlabel('expeciance level')\n",
        "plt.ylabel('job')\n",
        "plt.grid(axis='y')\n",
        "plt.show()"
      ],
      "metadata": {
        "id": "DAsxjleGUo9F"
      },
      "id": "DAsxjleGUo9F",
      "execution_count": null,
      "outputs": []
    },
    {
      "cell_type": "code",
      "source": [
        "bins = [0, 10000, 30000, 50000, 70000, 90000, 120000, 150000, 200000, 250000, 300000, 350000, float('inf')]\n",
        "\n",
        "# Define readable labels for those ranges\n",
        "labels = [\n",
        "    '<10k', '10k-30k', '30k-50k', '50k-70k', '70k-90k', '90k-120k', '120k-150k',\n",
        "    '150k-200k', '200k-250k', '250k-300k', '300k-350k', '>350k'\n",
        "]\n",
        "\n",
        "df['salary_range'] = pd.cut(df['salary_in_usd'] , bins=bins ,labels = labels ,right= False)\n",
        "df"
      ],
      "metadata": {
        "id": "Zigd96alYgL4"
      },
      "id": "Zigd96alYgL4",
      "execution_count": null,
      "outputs": []
    },
    {
      "cell_type": "code",
      "source": [
        "salary_count = df['salary_range'].value_counts().sort_index()\n",
        "plt.figure(figsize=(12, 6))\n",
        "salary_count.plot(kind='bar')\n",
        "plt.title('Salary Distribution by Custom Ranges')\n",
        "plt.xlabel('Salary Range (USD)')\n",
        "plt.ylabel('Number of Jobs')\n",
        "plt.grid(axis='y')\n",
        "plt.show()"
      ],
      "metadata": {
        "id": "iMFaBa5WZTle"
      },
      "id": "iMFaBa5WZTle",
      "execution_count": null,
      "outputs": []
    },
    {
      "cell_type": "code",
      "source": [
        "plt.figure(figsize=(12,6))\n",
        "sns.boxenplot(data=df,x='employment_type',y='salary_in_usd')\n",
        "plt.xlabel('employment')\n",
        "plt.ylabel('salary')\n",
        "plt.show()"
      ],
      "metadata": {
        "id": "qjz08yvlBEFo"
      },
      "id": "qjz08yvlBEFo",
      "execution_count": null,
      "outputs": []
    },
    {
      "cell_type": "code",
      "source": [
        "remote = df['remote_ratio'].value_counts()\n",
        "remote.plot(kind = 'pie')\n"
      ],
      "metadata": {
        "id": "sRmeeRteF-YB"
      },
      "id": "sRmeeRteF-YB",
      "execution_count": null,
      "outputs": []
    },
    {
      "cell_type": "code",
      "source": [
        "avg_Salary = df.groupby('job_title')['salary_in_usd'].median().sort_values( ascending =False)\n",
        "top10_avg = avg_Salary.head(10)\n",
        "top10_avg.plot(kind='barh')\n",
        "plt.show()"
      ],
      "metadata": {
        "id": "bfeZcJ5TJDNr"
      },
      "id": "bfeZcJ5TJDNr",
      "execution_count": null,
      "outputs": []
    },
    {
      "cell_type": "code",
      "source": [
        "sal_country = df.groupby('company_location')['salary_in_usd'].median().sort_values(ascending = False)\n",
        "sal_country"
      ],
      "metadata": {
        "id": "JSmPju_wSh-h"
      },
      "id": "JSmPju_wSh-h",
      "execution_count": null,
      "outputs": []
    },
    {
      "cell_type": "code",
      "source": [
        "filt = df[df['remote_ratio'].isin([0,100])]\n",
        "remote_comp = filt.groupby('remote_ratio')['salary_in_usd'].median()\n",
        "\n",
        "plt.pie(\n",
        "\n",
        "    remote_comp,\n",
        "    labels=remote_comp.index,\n",
        "    startangle=140,\n",
        "    autopct= '%1.1f%%',\n",
        "    textprops={'fontsize': 9}\n",
        ")"
      ],
      "metadata": {
        "id": "fhwsmUI0TgCh"
      },
      "id": "fhwsmUI0TgCh",
      "execution_count": null,
      "outputs": []
    },
    {
      "cell_type": "code",
      "source": [
        "avg_year = df.groupby('work_year')['salary_in_usd'].median()\n",
        "avg_year.plot(kind='line')\n"
      ],
      "metadata": {
        "id": "BypwwWCxXO67"
      },
      "id": "BypwwWCxXO67",
      "execution_count": null,
      "outputs": []
    },
    {
      "cell_type": "code",
      "source": [
        "top6_jobs = df['job_title'].value_counts().head(6).index\n",
        "top_jobs_df = df[df['job_title'].isin(top6_jobs)]\n",
        "job_demand_per_year = top_jobs_df.groupby(['work_year','job_title']).size().unstack(fill_value=0)\n",
        "job_demand_per_year.plot(kind='line',marker='o', figsize=(12, 6))"
      ],
      "metadata": {
        "id": "X2cAaIKy9XLE"
      },
      "id": "X2cAaIKy9XLE",
      "execution_count": null,
      "outputs": []
    },
    {
      "cell_type": "code",
      "source": [
        "senior_dev_df = df[df['experience_level'].isin(['SE'])]\n",
        "best_countries = senior_dev_df.groupby('company_location')['salary_in_usd'].median().sort_values(ascending=False).head(10)\n",
        "best_countries.plot(kind='barh')\n",
        "plt.gca().invert_yaxis()  # Optional: puts highest at the top\n",
        "plt.grid(axis='x', linestyle='--', alpha=0.7)\n",
        "plt.tight_layout()\n",
        "plt.show()"
      ],
      "metadata": {
        "id": "F9if0-2CApH7"
      },
      "id": "F9if0-2CApH7",
      "execution_count": null,
      "outputs": []
    },
    {
      "cell_type": "code",
      "source": [
        "remote_salery_per_level = df.groupby(['experience_level','remote_ratio']).agg({'salary_in_usd': 'mean'}).reset_index()\n",
        "#remote_salery_per_level.plot(kind='bar')\n",
        "sns.barplot(data=remote_salery_per_level, x='experience_level', y='salary_in_usd', hue='remote_ratio')"
      ],
      "metadata": {
        "id": "Js07xds-CQqd"
      },
      "id": "Js07xds-CQqd",
      "execution_count": null,
      "outputs": []
    },
    {
      "cell_type": "code",
      "source": [
        "numeric_df = df.select_dtypes(include=['number'])\n",
        "numeric_df\n",
        "# Compute correlation matrix\n",
        "correlation_matrix = numeric_df.corr()\n",
        "\n",
        "# Plot heatmap\n",
        "plt.figure(figsize=(8, 6))\n",
        "sns.heatmap(correlation_matrix, annot=True, cmap='coolwarm', fmt='.2f', linewidths=0.5)"
      ],
      "metadata": {
        "id": "zZLphzUfO_tP"
      },
      "id": "zZLphzUfO_tP",
      "execution_count": null,
      "outputs": []
    },
    {
      "cell_type": "code",
      "source": [
        "company_size_salary_per_exp = df.groupby(['experience_level','company_size']).agg({'salary_in_usd': 'mean'}).reset_index()\n",
        "#remote_salery_per_level.plot(kind='bar')\n",
        "sns.barplot(data = company_size_salary_per_exp, x='experience_level', y='salary_in_usd', hue='company_size')"
      ],
      "metadata": {
        "id": "mm19MBVXPyBH"
      },
      "id": "mm19MBVXPyBH",
      "execution_count": null,
      "outputs": []
    },
    {
      "cell_type": "code",
      "source": [
        "import seaborn as sns\n",
        "import matplotlib.pyplot as plt\n",
        "\n",
        "# Set a clear style\n",
        "sns.set(style='whitegrid')\n",
        "\n",
        "# Create the scatter plot\n",
        "plt.figure(figsize=(10, 6))\n",
        "sns.scatterplot(\n",
        "    data=df.head(500),\n",
        "    x='remote_ratio',\n",
        "    y='salary_in_usd',\n",
        "    hue='experience_level',\n",
        "    alpha=0.9,              # Transparency for readability\n",
        "    palette='Set2'          # Distinct colors for each level\n",
        ")\n",
        "\n",
        "# Add titles and labels\n",
        "plt.title('Salary vs Remote Ratio by Experience Level', fontsize=14)\n",
        "plt.xlabel('Remote Ratio (%)')\n",
        "plt.ylabel('Salary in USD')\n",
        "plt.legend(title='Experience Level')\n",
        "plt.tight_layout()\n",
        "plt.show()\n"
      ],
      "metadata": {
        "id": "xtb5DJwbQssK",
        "outputId": "eb23924a-d1e0-4219-ea90-d0585afffafd",
        "colab": {
          "base_uri": "https://localhost:8080/",
          "height": 464
        }
      },
      "id": "xtb5DJwbQssK",
      "execution_count": 78,
      "outputs": [
        {
          "output_type": "display_data",
          "data": {
            "text/plain": [
              "<Figure size 1000x600 with 1 Axes>"
            ],
            "image/png": "[encoded data removed]"
          },
          "metadata": {}
        }
      ]
    }
  ],
  "metadata": {
    "kernelspec": {
      "display_name": "Python 3",
      "name": "python3"
    },
    "language_info": {
      "name": "python"
    },
    "required_libs": [],
    "colab": {
      "provenance": [],
      "include_colab_link": true
    }
  },
  "nbformat": 4,
  "nbformat_minor": 5
}