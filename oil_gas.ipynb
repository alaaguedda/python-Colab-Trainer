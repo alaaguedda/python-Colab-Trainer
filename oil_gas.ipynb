{
  "nbformat": 4,
  "nbformat_minor": 0,
  "metadata": {
    "colab": {
      "provenance": [],
      "gpuType": "T4",
      "authorship_tag": "ABX9TyPeXc53KA0DvUJF8VoGb4tZ",
      "include_colab_link": true
    },
    "kernelspec": {
      "name": "python3",
      "display_name": "Python 3"
    },
    "language_info": {
      "name": "python"
    }
  },
  "cells": [
    {
      "cell_type": "markdown",
      "metadata": {
        "id": "view-in-github",
        "colab_type": "text"
      },
      "source": [
        "<a href=\"https://colab.research.google.com/github/alaaguedda/python-Colab-Trainer/blob/main/oil_gas.ipynb\" target=\"_parent\"><img src=\"https://colab.research.google.com/assets/colab-badge.svg\" alt=\"Open In Colab\"/></a>"
      ]
    },
    {
      "cell_type": "code",
      "source": [
        "import pandas as pd\n",
        "import glob\n",
        "import os\n",
        "import re"
      ],
      "metadata": {
        "id": "OsFUNzPZeIA6"
      },
      "execution_count": null,
      "outputs": []
    },
    {
      "cell_type": "code",
      "source": [
        "from google.colab import files\n",
        "files.upload()  # Choose your kaggle.json\n",
        "\n",
        "!mkdir -p ~/.kaggle\n",
        "!mv kaggle.json ~/.kaggle/\n",
        "!chmod 600 ~/.kaggle/kaggle.json\n",
        "!kaggle datasets download -d afrniomelo/3w-dataset\n",
        "!unzip 3w-dataset.zip -d 3w_dataset\n",
        "\n",
        "\n",
        "# 1) Get all parquet file paths in the target folder\n",
        "parquet_files = glob.glob(\"3w_dataset/2.0.0/0/*.parquet\")\n",
        "\n",
        "dfs = []\n",
        "row_limit = 150_000  # target number of rows\n",
        "total_rows = 0\n",
        "\n",
        "# 2) Loop through files until we hit row limit\n",
        "for file in parquet_files:\n",
        "    if total_rows >= row_limit:\n",
        "        break\n",
        "\n",
        "    # Extract well ID & timestamp from filename\n",
        "    filename = os.path.basename(file)\n",
        "    match = re.match(r\"(.+?)_(\\d+)\\.parquet\", filename)\n",
        "    well_id = match.group(1) if match else None\n",
        "    timestamp = match.group(2) if match else None\n",
        "\n",
        "    # Read parquet file\n",
        "    temp_df = pd.read_parquet(file)\n",
        "\n",
        "    # Add extracted info\n",
        "    temp_df[\"well_id\"] = well_id\n",
        "    temp_df[\"timestamp\"] = timestamp\n",
        "\n",
        "    dfs.append(temp_df)\n",
        "    total_rows += len(temp_df)\n",
        "\n",
        "# 3) Merge into a single DataFrame\n",
        "df = pd.concat(dfs, ignore_index=True)\n",
        "\n",
        "# 4) Sort and reset index\n",
        "df.sort_values(by=[\"well_id\", \"timestamp\"], inplace=True)\n",
        "df.reset_index(drop=True, inplace=True)\n",
        "\n",
        "print(f\"Loaded {len(df)} rows\")\n",
        "print(df.head())\n"
      ],
      "metadata": {
        "id": "oYcUs0sbjHyc"
      },
      "execution_count": null,
      "outputs": []
    },
    {
      "cell_type": "markdown",
      "source": [
        "#Here is the fetching area"
      ],
      "metadata": {
        "id": "KJEFcnl88YyE"
      }
    },
    {
      "cell_type": "code",
      "source": [
        "from google.colab import drive\n",
        "drive.mount('/content/drive',force_remount=True)\n"
      ],
      "metadata": {
        "colab": {
          "base_uri": "https://localhost:8080/"
        },
        "id": "Doy5aVeTeTw3",
        "outputId": "7f9b4efb-d7c8-45c3-d111-50283a5444bd"
      },
      "execution_count": null,
      "outputs": [
        {
          "output_type": "stream",
          "name": "stdout",
          "text": [
            "Mounted at /content/drive\n"
          ]
        }
      ]
    },
    {
      "cell_type": "code",
      "source": [
        "\n",
        "# Save the DataFrame as a parquet file in Google Drive\n",
        "save_path = '/content/drive/MyDrive/3w_dataset_70k.parquet'\n",
        "df.to_parquet(save_path, index=False)\n",
        "\n",
        "print(f\"Saved to {save_path}\")\n"
      ],
      "metadata": {
        "id": "ZchrA2od8YXk",
        "colab": {
          "base_uri": "https://localhost:8080/"
        },
        "outputId": "7a4445bc-b632-45e7-c826-2f446cfa19c5"
      },
      "execution_count": null,
      "outputs": [
        {
          "output_type": "stream",
          "name": "stdout",
          "text": [
            "Saved to /content/drive/MyDrive/3w_dataset_70k.parquet\n"
          ]
        }
      ]
    },
    {
      "cell_type": "code",
      "source": [
        "  df = pd.read_parquet('/content/drive/MyDrive/3w_dataset_70k.parquet')\n"
      ],
      "metadata": {
        "id": "FzzFozEe8gh0"
      },
      "execution_count": null,
      "outputs": []
    },
    {
      "cell_type": "code",
      "source": [
        "from sklearn.ensemble import RandomForestRegressor, RandomForestClassifier\n",
        "from sklearn.model_selection import train_test_split"
      ],
      "metadata": {
        "id": "jqfqt9S04KpY"
      },
      "execution_count": null,
      "outputs": []
    },
    {
      "cell_type": "code",
      "source": [
        "df =df.dropna(axis=1 ,how='all')"
      ],
      "metadata": {
        "id": "C-U7UfIqcALR"
      },
      "execution_count": null,
      "outputs": []
    },
    {
      "cell_type": "code",
      "source": [
        "print(df.isna().mean().sort_values(ascending=False).head(30) *100)"
      ],
      "metadata": {
        "id": "wxDD3K_za0gh"
      },
      "execution_count": null,
      "outputs": []
    },
    {
      "cell_type": "code",
      "source": [
        "df.columns"
      ],
      "metadata": {
        "colab": {
          "base_uri": "https://localhost:8080/"
        },
        "id": "QjrTE-ficPVZ",
        "outputId": "d06bc918-8e24-4073-ea2a-c03e11280088"
      },
      "execution_count": null,
      "outputs": [
        {
          "output_type": "execute_result",
          "data": {
            "text/plain": [
              "Index(['ESTADO-DHSV', 'ESTADO-M1', 'ESTADO-M2', 'ESTADO-PXO', 'ESTADO-SDV-GL',\n",
              "       'ESTADO-SDV-P', 'ESTADO-W1', 'ESTADO-W2', 'ESTADO-XO', 'P-ANULAR',\n",
              "       'P-JUS-CKGL', 'P-MON-CKP', 'P-PDG', 'P-TPT', 'QGL', 'T-JUS-CKP',\n",
              "       'T-PDG', 'T-TPT', 'class', 'state', 'well_id', 'timestamp'],\n",
              "      dtype='object')"
            ]
          },
          "metadata": {},
          "execution_count": 35
        }
      ]
    },
    {
      "cell_type": "code",
      "source": [
        "rename_map = {\n",
        "    'ESTADO-DHSV': 'Valve_Status',\n",
        "    'ESTADO-M1': 'Module_1_Status',\n",
        "    'ESTADO-M2': 'Module_2_Status',\n",
        "    'ESTADO-PXO': 'Pump_XO_Status',\n",
        "    'ESTADO-SDV-GL': 'Gas_Lift_Valve',\n",
        "    'ESTADO-SDV-P': 'Production_Valve',\n",
        "    'ESTADO-W1': 'Well_1_Status',\n",
        "    'ESTADO-W2': 'Well_2_Status',\n",
        "    'ESTADO-XO': 'XO_Status',\n",
        "    'P-ANULAR': 'Annular_Pressure',\n",
        "    'P-JUS-CKGL': 'Downstream_Gas_Pressure',\n",
        "    'P-MON-CKP': 'Monitor_Pressure',\n",
        "    'P-PDG': 'Downhole_Pressure',\n",
        "    'P-TPT': 'Tubing_Pressure',\n",
        "    'QGL': 'Gas_Lift_Rate',\n",
        "    'T-JUS-CKP': 'Downstream_Temp',\n",
        "    'T-PDG': 'Downhole_Temp',\n",
        "    'T-TPT': 'Tubing_Temp',\n",
        "    'class': 'Class',\n",
        "    'state': 'State',\n",
        "    'well_id': 'Well_ID',\n",
        "    'timestamp': 'Timestamp'\n",
        "}\n",
        "\n",
        "df.rename(columns=rename_map, inplace=True)\n",
        "df.columns"
      ],
      "metadata": {
        "colab": {
          "base_uri": "https://localhost:8080/"
        },
        "id": "2b-jSwtHdZUH",
        "outputId": "bbf8a098-caab-4282-ba9f-970e1d483db2"
      },
      "execution_count": null,
      "outputs": [
        {
          "output_type": "execute_result",
          "data": {
            "text/plain": [
              "Index(['Valve_Status', 'Module_1_Status', 'Module_2_Status', 'Pump_XO_Status',\n",
              "       'Gas_Lift_Valve', 'Production_Valve', 'Well_1_Status', 'Well_2_Status',\n",
              "       'XO_Status', 'Annular_Pressure', 'Downstream_Gas_Pressure',\n",
              "       'Monitor_Pressure', 'Downhole_Pressure', 'Tubing_Pressure',\n",
              "       'Gas_Lift_Rate', 'Downstream_Temp', 'Downhole_Temp', 'Tubing_Temp',\n",
              "       'Class', 'State', 'Well_ID', 'Timestamp'],\n",
              "      dtype='object')"
            ]
          },
          "metadata": {},
          "execution_count": 10
        }
      ]
    },
    {
      "cell_type": "code",
      "source": [],
      "metadata": {
        "id": "Ev-rZ9imesju"
      },
      "execution_count": null,
      "outputs": []
    }
  ]
}